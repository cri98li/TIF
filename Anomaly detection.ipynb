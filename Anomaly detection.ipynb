{
 "cells": [
  {
   "cell_type": "code",
   "execution_count": 7,
   "id": "b6e50532",
   "metadata": {},
   "outputs": [],
   "source": [
    "import pandas as pd\n",
    "import numpy as np\n",
    "import matplotlib.pyplot as plt\n",
    "\n",
    "from tqdm.auto import tqdm"
   ]
  },
  {
   "cell_type": "code",
   "execution_count": 32,
   "id": "cdbaeef3",
   "metadata": {},
   "outputs": [
    {
     "data": {
      "text/html": [
       "<div>\n",
       "<style scoped>\n",
       "    .dataframe tbody tr th:only-of-type {\n",
       "        vertical-align: middle;\n",
       "    }\n",
       "\n",
       "    .dataframe tbody tr th {\n",
       "        vertical-align: top;\n",
       "    }\n",
       "\n",
       "    .dataframe thead th {\n",
       "        text-align: right;\n",
       "    }\n",
       "</style>\n",
       "<table border=\"1\" class=\"dataframe\">\n",
       "  <thead>\n",
       "    <tr style=\"text-align: right;\">\n",
       "      <th></th>\n",
       "      <th>tid</th>\n",
       "      <th>class</th>\n",
       "      <th>t</th>\n",
       "      <th>c1</th>\n",
       "      <th>c2</th>\n",
       "    </tr>\n",
       "  </thead>\n",
       "  <tbody>\n",
       "    <tr>\n",
       "      <th>0</th>\n",
       "      <td>30901</td>\n",
       "      <td>B</td>\n",
       "      <td>0</td>\n",
       "      <td>42.077160</td>\n",
       "      <td>4.738411</td>\n",
       "    </tr>\n",
       "    <tr>\n",
       "      <th>1</th>\n",
       "      <td>30901</td>\n",
       "      <td>B</td>\n",
       "      <td>30</td>\n",
       "      <td>42.077246</td>\n",
       "      <td>4.739088</td>\n",
       "    </tr>\n",
       "    <tr>\n",
       "      <th>2</th>\n",
       "      <td>30901</td>\n",
       "      <td>B</td>\n",
       "      <td>60</td>\n",
       "      <td>42.077259</td>\n",
       "      <td>4.739096</td>\n",
       "    </tr>\n",
       "    <tr>\n",
       "      <th>3</th>\n",
       "      <td>30901</td>\n",
       "      <td>B</td>\n",
       "      <td>90</td>\n",
       "      <td>42.077369</td>\n",
       "      <td>4.739158</td>\n",
       "    </tr>\n",
       "    <tr>\n",
       "      <th>4</th>\n",
       "      <td>30901</td>\n",
       "      <td>B</td>\n",
       "      <td>120</td>\n",
       "      <td>42.077635</td>\n",
       "      <td>4.739343</td>\n",
       "    </tr>\n",
       "  </tbody>\n",
       "</table>\n",
       "</div>"
      ],
      "text/plain": [
       "     tid class    t         c1        c2\n",
       "0  30901     B    0  42.077160  4.738411\n",
       "1  30901     B   30  42.077246  4.739088\n",
       "2  30901     B   60  42.077259  4.739096\n",
       "3  30901     B   90  42.077369  4.739158\n",
       "4  30901     B  120  42.077635  4.739343"
      ]
     },
     "execution_count": 32,
     "metadata": {},
     "output_type": "execute_result"
    }
   ],
   "source": [
    "df = pd.read_csv(\"Experiments/datasets/vehicles.zip\")\n",
    "\n",
    "df[[\"c1\", \"c2\"]] /= 10**5\n",
    "\n",
    "df = df.sort_values(by=[\"class\", \"tid\", \"t\"])\n",
    "\n",
    "df.head()"
   ]
  },
  {
   "cell_type": "code",
   "execution_count": 65,
   "id": "acdc7aa2",
   "metadata": {},
   "outputs": [
    {
     "name": "stdout",
     "output_type": "stream",
     "text": [
      "0.10989010989010989\n"
     ]
    }
   ],
   "source": [
    "from TCIF.algorithms.utils import prepare\n",
    "\n",
    "n = 30\n",
    "print(n/len(df[df[\"class\"]==\"T\"].tid.unique()))\n",
    "\n",
    "tid, classe, lat, lon, time = prepare(df, \n",
    "                                      df[df[\"class\"]==\"T\"].tid.unique().tolist() + df[df[\"class\"]==\"B\"].tid.unique().tolist()[:n], \n",
    "                                      verbose=False)"
   ]
  },
  {
   "cell_type": "code",
   "execution_count": 66,
   "id": "69566cc0",
   "metadata": {},
   "outputs": [
    {
     "data": {
      "text/plain": [
       "(array(['B', 'T'], dtype='<U1'), array([ 30, 273]))"
      ]
     },
     "execution_count": 66,
     "metadata": {},
     "output_type": "execute_result"
    }
   ],
   "source": [
    "np.unique(classe, return_counts=True)"
   ]
  },
  {
   "cell_type": "code",
   "execution_count": 83,
   "id": "d735fb47",
   "metadata": {},
   "outputs": [
    {
     "name": "stdout",
     "output_type": "stream",
     "text": [
      "percentage, min:0.05, max:inf\n"
     ]
    },
    {
     "data": {
      "application/vnd.jupyter.widget-view+json": {
       "model_id": "9ab746bf4f6c4bdeb7c69ac1cd926cc4",
       "version_major": 2,
       "version_minor": 0
      },
      "text/plain": [
       "  0%|          | 0/303 [00:00<?, ?it/s]"
      ]
     },
     "metadata": {},
     "output_type": "display_data"
    }
   ],
   "source": [
    "from TCIF.classes.T_CIF_observation import T_CIF_observations\n",
    "from TCIF.classes.T_CIF_space import T_CIF_space\n",
    "from TCIF.classes.T_CIF_time import T_CIF_time\n",
    "\n",
    "X = [(_lat, _lon, _time) for _lat, _lon, _time in zip(lat, lon, time)]\n",
    "\n",
    "tcif = T_CIF_observations(\n",
    "    n_trees=100, \n",
    "    n_interval=50, \n",
    "    min_length=.05, \n",
    "    interval_type=\"percentage\", \n",
    "    n_jobs=4, \n",
    "    verbose=True\n",
    ")\n",
    "\n",
    "X_transform = tcif.transform(X)"
   ]
  },
  {
   "cell_type": "code",
   "execution_count": 84,
   "id": "552b7b65",
   "metadata": {},
   "outputs": [
    {
     "data": {
      "text/plain": [
       "(303, 2900)"
      ]
     },
     "execution_count": 84,
     "metadata": {},
     "output_type": "execute_result"
    }
   ],
   "source": [
    "X_transform.shape"
   ]
  },
  {
   "cell_type": "code",
   "execution_count": 88,
   "id": "f85cf5c2",
   "metadata": {},
   "outputs": [
    {
     "data": {
      "text/plain": [
       "array([-1,  1, -1,  1,  1,  1,  1,  1,  1,  1,  1,  1,  1,  1, -1,  1, -1,\n",
       "       -1,  1, -1, -1,  1,  1,  1, -1,  1,  1,  1,  1,  1, -1,  1,  1,  1,\n",
       "        1,  1,  1,  1,  1,  1,  1,  1,  1,  1,  1,  1,  1,  1,  1,  1,  1,\n",
       "        1,  1,  1,  1,  1,  1,  1,  1,  1,  1,  1,  1,  1,  1,  1,  1,  1,\n",
       "        1,  1,  1,  1,  1, -1,  1,  1,  1,  1,  1,  1,  1,  1,  1,  1,  1,\n",
       "        1,  1,  1,  1,  1,  1,  1,  1,  1,  1,  1,  1,  1,  1,  1,  1,  1,\n",
       "        1,  1,  1,  1,  1,  1,  1,  1,  1,  1,  1,  1,  1,  1,  1,  1,  1,\n",
       "        1,  1,  1,  1,  1,  1,  1,  1,  1,  1,  1,  1,  1,  1,  1,  1,  1,\n",
       "        1,  1, -1,  1, -1,  1,  1,  1,  1,  1,  1,  1,  1,  1, -1,  1, -1,\n",
       "        1,  1,  1,  1,  1,  1, -1,  1,  1,  1,  1,  1,  1,  1,  1,  1,  1,\n",
       "        1,  1,  1,  1,  1,  1,  1,  1,  1,  1,  1,  1,  1,  1,  1,  1,  1,\n",
       "        1,  1,  1,  1,  1,  1,  1,  1,  1,  1, -1,  1,  1,  1,  1,  1,  1,\n",
       "        1,  1,  1,  1, -1,  1,  1,  1,  1,  1, -1,  1,  1,  1,  1,  1,  1,\n",
       "        1,  1, -1,  1,  1,  1,  1,  1,  1,  1,  1,  1, -1,  1,  1,  1,  1,\n",
       "        1,  1,  1,  1,  1,  1,  1,  1,  1,  1,  1,  1,  1, -1,  1,  1,  1,\n",
       "        1,  1,  1,  1,  1,  1,  1,  1,  1,  1,  1,  1,  1,  1,  1,  1,  1,\n",
       "        1,  1,  1, -1,  1,  1,  1,  1,  1,  1,  1,  1,  1,  1,  1,  1,  1,\n",
       "        1,  1,  1,  1,  1,  1,  1,  1,  1,  1,  1,  1,  1,  1])"
      ]
     },
     "execution_count": 88,
     "metadata": {},
     "output_type": "execute_result"
    }
   ],
   "source": [
    "from sklearn.ensemble import IsolationForest\n",
    "\n",
    "clf = IsolationForest(random_state=43).fit(X_transform)\n",
    "clf.predict(X_transform)"
   ]
  },
  {
   "cell_type": "code",
   "execution_count": 93,
   "id": "87b45c10",
   "metadata": {},
   "outputs": [
    {
     "data": {
      "text/plain": [
       "[<matplotlib.lines.Line2D at 0x7f88cc35c1c0>]"
      ]
     },
     "execution_count": 93,
     "metadata": {},
     "output_type": "execute_result"
    },
    {
     "data": {
      "image/png": "[encoded data removed]",
      "text/plain": [
       "<Figure size 640x480 with 1 Axes>"
      ]
     },
     "metadata": {},
     "output_type": "display_data"
    }
   ],
   "source": [
    "plt.plot(clf.predict(X_transform))\n",
    "plt.plot([1  if c == 'B' else 0 for c in classe])"
   ]
  },
  {
   "cell_type": "code",
   "execution_count": null,
   "id": "75d4140d",
   "metadata": {},
   "outputs": [],
   "source": []
  },
  {
   "cell_type": "code",
   "execution_count": 81,
   "id": "b2f2a856",
   "metadata": {},
   "outputs": [
    {
     "data": {
      "text/plain": [
       "array([[0.00000000e+00, 0.00000000e+00, 0.00000000e+00, ...,\n",
       "        0.00000000e+00, 0.00000000e+00, 0.00000000e+00],\n",
       "       [0.00000000e+00, 0.00000000e+00, 0.00000000e+00, ...,\n",
       "        0.00000000e+00, 0.00000000e+00, 0.00000000e+00],\n",
       "       [0.00000000e+00, 0.00000000e+00, 0.00000000e+00, ...,\n",
       "        0.00000000e+00, 0.00000000e+00, 0.00000000e+00],\n",
       "       ...,\n",
       "       [0.00000000e+00, 0.00000000e+00, 0.00000000e+00, ...,\n",
       "        4.93609005e-04, 5.22784909e+00, 2.07226181e+01],\n",
       "       [0.00000000e+00, 0.00000000e+00, 0.00000000e+00, ...,\n",
       "        2.25627535e-04, 2.36948713e+00, 1.47071502e+01],\n",
       "       [0.00000000e+00, 0.00000000e+00, 0.00000000e+00, ...,\n",
       "        0.00000000e+00, 0.00000000e+00, 0.00000000e+00]])"
      ]
     },
     "execution_count": 81,
     "metadata": {},
     "output_type": "execute_result"
    }
   ],
   "source": [
    "X_transform"
   ]
  },
  {
   "cell_type": "code",
   "execution_count": 19,
   "id": "c38e7cb8",
   "metadata": {},
   "outputs": [],
   "source": [
    "u, c = np.unique(df.groupby(\"tid\")[\"class\"].max(), return_counts=True)"
   ]
  },
  {
   "cell_type": "code",
   "execution_count": 20,
   "id": "9238f9b5",
   "metadata": {},
   "outputs": [
    {
     "data": {
      "text/plain": [
       "[<matplotlib.lines.Line2D at 0x7f88f9948190>]"
      ]
     },
     "execution_count": 20,
     "metadata": {},
     "output_type": "execute_result"
    },
    {
     "data": {
      "image/png": "[encoded data removed]",
      "text/plain": [
       "<Figure size 640x480 with 1 Axes>"
      ]
     },
     "metadata": {},
     "output_type": "display_data"
    }
   ],
   "source": [
    "plt.plot(u, c)"
   ]
  },
  {
   "cell_type": "code",
   "execution_count": 15,
   "id": "5ebd9355",
   "metadata": {},
   "outputs": [
    {
     "data": {
      "text/html": [
       "<div>\n",
       "<style scoped>\n",
       "    .dataframe tbody tr th:only-of-type {\n",
       "        vertical-align: middle;\n",
       "    }\n",
       "\n",
       "    .dataframe tbody tr th {\n",
       "        vertical-align: top;\n",
       "    }\n",
       "\n",
       "    .dataframe thead th {\n",
       "        text-align: right;\n",
       "    }\n",
       "</style>\n",
       "<table border=\"1\" class=\"dataframe\">\n",
       "  <thead>\n",
       "    <tr style=\"text-align: right;\">\n",
       "      <th></th>\n",
       "      <th>tid</th>\n",
       "      <th>class</th>\n",
       "      <th>t</th>\n",
       "      <th>c1</th>\n",
       "      <th>c2</th>\n",
       "    </tr>\n",
       "  </thead>\n",
       "  <tbody>\n",
       "    <tr>\n",
       "      <th>61879</th>\n",
       "      <td>86201</td>\n",
       "      <td>T</td>\n",
       "      <td>0</td>\n",
       "      <td>4207588.1</td>\n",
       "      <td>486253.8</td>\n",
       "    </tr>\n",
       "    <tr>\n",
       "      <th>61880</th>\n",
       "      <td>86201</td>\n",
       "      <td>T</td>\n",
       "      <td>30</td>\n",
       "      <td>4207543.6</td>\n",
       "      <td>486261.6</td>\n",
       "    </tr>\n",
       "    <tr>\n",
       "      <th>61881</th>\n",
       "      <td>86201</td>\n",
       "      <td>T</td>\n",
       "      <td>60</td>\n",
       "      <td>4207562.6</td>\n",
       "      <td>486292.4</td>\n",
       "    </tr>\n",
       "    <tr>\n",
       "      <th>61882</th>\n",
       "      <td>86201</td>\n",
       "      <td>T</td>\n",
       "      <td>90</td>\n",
       "      <td>4207473.8</td>\n",
       "      <td>486289.6</td>\n",
       "    </tr>\n",
       "    <tr>\n",
       "      <th>61883</th>\n",
       "      <td>86201</td>\n",
       "      <td>T</td>\n",
       "      <td>120</td>\n",
       "      <td>4207270.7</td>\n",
       "      <td>486226.1</td>\n",
       "    </tr>\n",
       "  </tbody>\n",
       "</table>\n",
       "</div>"
      ],
      "text/plain": [
       "         tid class    t         c1        c2\n",
       "61879  86201     T    0  4207588.1  486253.8\n",
       "61880  86201     T   30  4207543.6  486261.6\n",
       "61881  86201     T   60  4207562.6  486292.4\n",
       "61882  86201     T   90  4207473.8  486289.6\n",
       "61883  86201     T  120  4207270.7  486226.1"
      ]
     },
     "execution_count": 15,
     "metadata": {},
     "output_type": "execute_result"
    }
   ],
   "source": [
    "df_t = df[df[\"class\"] == \"T\"]\n",
    "\n",
    "df_t.head()"
   ]
  },
  {
   "cell_type": "code",
   "execution_count": 21,
   "id": "228bf311",
   "metadata": {},
   "outputs": [],
   "source": []
  },
  {
   "cell_type": "code",
   "execution_count": null,
   "id": "693a5a49",
   "metadata": {},
   "outputs": [],
   "source": []
  },
  {
   "cell_type": "code",
   "execution_count": null,
   "id": "3565fa7b",
   "metadata": {},
   "outputs": [],
   "source": []
  }
 ],
 "metadata": {
  "kernelspec": {
   "display_name": "Python 3 (ipykernel)",
   "language": "python",
   "name": "python3"
  },
  "language_info": {
   "codemirror_mode": {
    "name": "ipython",
    "version": 3
   },
   "file_extension": ".py",
   "mimetype": "text/x-python",
   "name": "python",
   "nbconvert_exporter": "python",
   "pygments_lexer": "ipython3",
   "version": "3.10.9"
  }
 },
 "nbformat": 4,
 "nbformat_minor": 5
}
